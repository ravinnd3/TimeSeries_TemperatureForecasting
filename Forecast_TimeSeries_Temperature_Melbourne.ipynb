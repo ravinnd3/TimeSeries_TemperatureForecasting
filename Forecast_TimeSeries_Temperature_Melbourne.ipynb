{
  "nbformat": 4,
  "nbformat_minor": 0,
  "metadata": {
    "colab": {
      "provenance": [],
      "gpuType": "A100",
      "authorship_tag": "ABX9TyN8vJ5rDO6W4GTtmNv75E7c",
      "include_colab_link": true
    },
    "kernelspec": {
      "name": "python3",
      "display_name": "Python 3"
    },
    "language_info": {
      "name": "python"
    },
    "accelerator": "GPU"
  },
  "cells": [
    {
      "cell_type": "markdown",
      "metadata": {
        "id": "view-in-github",
        "colab_type": "text"
      },
      "source": [
        "<a href=\"https://colab.research.google.com/github/ravinnd3/TimeSeries_TemperatureForecasting/blob/main/Forecast_TimeSeries_Temperature_Melbourne.ipynb\" target=\"_parent\"><img src=\"https://colab.research.google.com/assets/colab-badge.svg\" alt=\"Open In Colab\"/></a>"
      ]
    },
    {
      "cell_type": "code",
      "source": [
        "# !pip install statsmodels tensorflow"
      ],
      "metadata": {
        "id": "l3tFBLmyYSqM"
      },
      "execution_count": null,
      "outputs": []
    },
    {
      "cell_type": "code",
      "source": [
        "# !pip install prophet neuralprophet --quiet"
      ],
      "metadata": {
        "id": "TKkod58UxzW4"
      },
      "execution_count": null,
      "outputs": []
    },
    {
      "cell_type": "code",
      "execution_count": null,
      "metadata": {
        "id": "duQl3QCciw3i"
      },
      "outputs": [],
      "source": [
        "import os\n",
        "import kagglehub\n",
        "import pandas as pd\n",
        "import numpy as np\n",
        "import matplotlib.pyplot as plt\n",
        "import seaborn as sns\n",
        "import warnings\n",
        "warnings.filterwarnings(\"ignore\")\n",
        "\n",
        "from statsmodels.tsa.seasonal import seasonal_decompose\n",
        "from statsmodels.tsa.stattools import adfuller\n",
        "from statsmodels.tsa.arima.model import ARIMA\n",
        "from statsmodels.tsa.ar_model import AutoReg\n",
        "from statsmodels.graphics.tsaplots import plot_acf, plot_pacf\n",
        "from sklearn.metrics import mean_squared_error, mean_absolute_error\n",
        "from statsmodels.tsa.statespace.sarimax import SARIMAX\n",
        "from sklearn.metrics import r2_score\n",
        "from sklearn.preprocessing import MinMaxScaler\n",
        "\n",
        "\n",
        "from keras import backend as k #to make the keras job faster\n",
        "from keras.models import Sequential\n",
        "from keras.layers import LSTM, Dense, Dropout,GRU, SimpleRNN, Bidirectional,LeakyReLU,ReLU,Conv1D,MaxPooling1D,Flatten\n",
        "from keras.callbacks import EarlyStopping\n",
        "from keras.optimizers import Adam\n",
        "\n",
        "# from prophet import Prophet\n",
        "# from neuralprophet import NeuralProphet\n",
        "\n",
        "\n",
        "from joblib import Parallel, delayed #for faster and parallel computation\n"
      ]
    },
    {
      "cell_type": "code",
      "source": [
        "import importlib\n",
        "\n",
        "libraries = [\n",
        "    \"os\", \"kagglehub\", \"pandas\", \"numpy\", \"matplotlib\", \"seaborn\", \"warnings\",\n",
        "    \"statsmodels\", \"sklearn\", \"keras\", \"prophet\", \"neuralprophet\", \"joblib\"\n",
        "]\n",
        "\n",
        "for lib in libraries:\n",
        "    try:\n",
        "        module = importlib.import_module(lib)\n",
        "        version = getattr(module, \"__version__\", \"Version info not available\")\n",
        "        print(f\"{lib}: {version}\")\n",
        "    except ImportError:\n",
        "        print(f\"{lib}: Not installed\")\n"
      ],
      "metadata": {
        "id": "_ofnWV61stT6"
      },
      "execution_count": null,
      "outputs": []
    },
    {
      "cell_type": "code",
      "source": [
        "\n",
        "\n",
        "# Download latest version (will be downloaded to /kaggle/input/...)\n",
        "dataset_path = kagglehub.dataset_download(\"paulbrabban/daily-minimum-temperatures-in-melbourne\")\n",
        "\n",
        "# Define the desired destination path\n",
        "destination_path = \"/content/\"\n",
        "\n",
        "# Create the destination directory if it doesn't exist\n",
        "os.makedirs(destination_path, exist_ok=True)\n",
        "\n",
        "# Copy the contents of the downloaded dataset to the destination path\n",
        "# We use shell command for simplicity, you could also use shutil.copytree\n",
        "!cp -r \"{dataset_path}/.\" \"{destination_path}/\"\n",
        "\n",
        "print(f\"Dataset copied to: {destination_path}\")\n",
        "\n",
        "# List files in the destination directory to confirm\n",
        "!ls \"{destination_path}\""
      ],
      "metadata": {
        "id": "TNZ4tNlYjlVz"
      },
      "execution_count": null,
      "outputs": []
    },
    {
      "cell_type": "code",
      "source": [
        "## Checking the bad records, when reading by pandas thorwing error for bad records at row no 3653\n",
        "\n",
        "with open(\"/content/daily-minimum-temperatures-in-me.csv\") as f:\n",
        "    for i, line in enumerate(f, start=1):\n",
        "        if i == 3653:\n",
        "            print(line)\n",
        "            break\n",
        "\n",
        "\n"
      ],
      "metadata": {
        "id": "uHoATf-7mY3j"
      },
      "execution_count": null,
      "outputs": []
    },
    {
      "cell_type": "code",
      "source": [
        "data = pd.read_csv(\"/content/daily-minimum-temperatures-in-me.csv\", parse_dates=['Date'], index_col='Date', delimiter=',', skipfooter=1,on_bad_lines=\"skip\")\n",
        "data.head(5)"
      ],
      "metadata": {
        "id": "dYZQtyOWi5rQ"
      },
      "execution_count": null,
      "outputs": []
    },
    {
      "cell_type": "code",
      "source": [
        "#checking for null values\n",
        "data.isnull().sum()"
      ],
      "metadata": {
        "id": "Poo209hTLP2E"
      },
      "execution_count": null,
      "outputs": []
    },
    {
      "cell_type": "code",
      "source": [
        "data.info()"
      ],
      "metadata": {
        "id": "sbPxoFVtj0kZ"
      },
      "execution_count": null,
      "outputs": []
    },
    {
      "cell_type": "code",
      "source": [
        "# Change the datatype from object to number\n",
        "data['Daily minimum temperatures in Melbourne, Australia, 1981-1990'] = pd.to_numeric(data['Daily minimum temperatures in Melbourne, Australia, 1981-1990'], errors='coerce')\n",
        "\n",
        "data.info()"
      ],
      "metadata": {
        "id": "UfejkHM6qyi-"
      },
      "execution_count": null,
      "outputs": []
    },
    {
      "cell_type": "code",
      "source": [
        "data.index"
      ],
      "metadata": {
        "id": "D9ZuQ82BnEgN"
      },
      "execution_count": null,
      "outputs": []
    },
    {
      "cell_type": "code",
      "source": [
        "data.describe()"
      ],
      "metadata": {
        "id": "epUtCWlvfixQ"
      },
      "execution_count": null,
      "outputs": []
    },
    {
      "cell_type": "markdown",
      "source": [
        "Till above reading file using pandas and skipping bad records.\n",
        "\n",
        "the index is set as date and temperature for Melbourne, Australia, 1981-1990 is column.\n"
      ],
      "metadata": {
        "id": "xn4j4vmYnKof"
      }
    },
    {
      "cell_type": "code",
      "source": [
        "data.rename(columns={\"Daily minimum temperatures in Melbourne, Australia, 1981-1990\":\"Temperature\"}, inplace=True)\n",
        "data.head(5)"
      ],
      "metadata": {
        "id": "-sAz2magnIyF"
      },
      "execution_count": null,
      "outputs": []
    },
    {
      "cell_type": "code",
      "source": [
        "print(data.index.min(), data.index.max())"
      ],
      "metadata": {
        "id": "0ZisPITKheXG"
      },
      "execution_count": null,
      "outputs": []
    },
    {
      "cell_type": "code",
      "source": [
        "print(pd.infer_freq(data.index))\n",
        "\n",
        "# This will return 'D', 'M', 'MS', etc. if the data is regular. If it returns None, the index is irregular."
      ],
      "metadata": {
        "id": "WEKS7F-zf3Lw"
      },
      "execution_count": null,
      "outputs": []
    },
    {
      "cell_type": "markdown",
      "source": [
        "**Identify Missing Dates**"
      ],
      "metadata": {
        "id": "9-RCs6PGh8qO"
      }
    },
    {
      "cell_type": "code",
      "source": [
        "date_range = pd.date_range(start=data.index.min(), end=data.index.max(), freq='D')\n",
        "missing = date_range.difference(data.index)\n",
        "print(\"Missing Dates:\", missing)"
      ],
      "metadata": {
        "id": "3hK92rfJT40m"
      },
      "execution_count": null,
      "outputs": []
    },
    {
      "cell_type": "markdown",
      "source": [
        "Missing dates are '1984-12-31', '1988-12-31'"
      ],
      "metadata": {
        "id": "0WVf8Bkpm82m"
      }
    },
    {
      "cell_type": "code",
      "source": [
        "# Filling the missing records, here first creating the index for missing dates\n",
        "data = data.reindex(date_range)"
      ],
      "metadata": {
        "id": "bhq9f2xnpyXa"
      },
      "execution_count": null,
      "outputs": []
    },
    {
      "cell_type": "code",
      "source": [],
      "metadata": {
        "id": "5pu_R8ddUVNG"
      },
      "execution_count": null,
      "outputs": []
    },
    {
      "cell_type": "code",
      "source": [
        "# Reconfirming the missing dates are filled or not\n",
        "\n",
        "date_range = pd.date_range(start=data.index.min(), end=data.index.max(), freq='D')\n",
        "missing = date_range.difference(data.index)\n",
        "print(\"Missing Dates:\", missing)"
      ],
      "metadata": {
        "id": "tNZ871jTouwL"
      },
      "execution_count": null,
      "outputs": []
    },
    {
      "cell_type": "code",
      "source": [
        "print(data.loc['1984-12-30':'1985-01-02'])\n",
        "print(data.loc['1988-12-30':'1989-01-02'])\n"
      ],
      "metadata": {
        "id": "TJzsVmDZrQEi"
      },
      "execution_count": null,
      "outputs": []
    },
    {
      "cell_type": "code",
      "source": [
        "# Filling the missing value using interpolation\n",
        "\n",
        "data['Temperature'].interpolate(method='time',inplace=True)"
      ],
      "metadata": {
        "id": "Yr7uV5IUqhlk"
      },
      "execution_count": null,
      "outputs": []
    },
    {
      "cell_type": "code",
      "source": [
        "print(data.loc['1984-12-30':'1985-01-02'])\n",
        "print(data.loc['1988-12-30':'1989-01-02'])\n"
      ],
      "metadata": {
        "id": "YFo2qf22pUk6"
      },
      "execution_count": null,
      "outputs": []
    },
    {
      "cell_type": "code",
      "source": [
        "data"
      ],
      "metadata": {
        "id": "LZGbZfYxqL7a"
      },
      "execution_count": null,
      "outputs": []
    },
    {
      "source": [
        "data['Temperature'].plot(kind='line', figsize=(8, 4), title='Temperature')\n",
        "plt.show()"
      ],
      "cell_type": "code",
      "metadata": {
        "id": "3XO8BBCErn-h"
      },
      "execution_count": null,
      "outputs": []
    },
    {
      "cell_type": "code",
      "source": [
        "data['Temperature'].plot(xlim=['1983-01-01','1983-12-31'],figsize=(12,4))"
      ],
      "metadata": {
        "id": "GMutOvvCx8lg"
      },
      "execution_count": null,
      "outputs": []
    },
    {
      "cell_type": "code",
      "source": [
        "data['Temperature'].plot(xlim=['1981-01-01','1981-12-31'],figsize=(12,4),color='black',label='1981')\n",
        "data['Temperature'].plot(xlim=['1982-01-01','1982-12-31'],figsize=(12,4),color='blue',label='1982')\n",
        "data['Temperature'].plot(xlim=['1983-01-01','1983-12-31'],figsize=(12,4),color='green',label='1983')\n",
        "data['Temperature'].plot(xlim=['1984-01-01','1984-12-31'],figsize=(12,4),color='red',label='1984')\n",
        "plt.legend()\n",
        "plt.show()\n",
        "\n"
      ],
      "metadata": {
        "id": "Y3qLwPole342"
      },
      "execution_count": null,
      "outputs": []
    },
    {
      "cell_type": "markdown",
      "source": [
        "It shows same trend to all the years, in which temperature is downward trend from May to July and again getting in same throuhout months trend."
      ],
      "metadata": {
        "id": "2ai-Gmfmf67e"
      }
    },
    {
      "cell_type": "code",
      "source": [],
      "metadata": {
        "id": "jtGjFLKbf4hE"
      },
      "execution_count": null,
      "outputs": []
    },
    {
      "cell_type": "code",
      "source": [
        "\n",
        "result = seasonal_decompose(data['Temperature'], model='additive', period=365)\n",
        "result.plot()\n",
        "plt.show()\n"
      ],
      "metadata": {
        "id": "D8ptMOzJrjR0"
      },
      "execution_count": null,
      "outputs": []
    },
    {
      "cell_type": "markdown",
      "source": [
        "The chart has **four subplots**:\n",
        "\n",
        "---\n",
        "\n",
        "### **1️⃣ Observed (Top plot)**\n",
        "\n",
        "* This is the **raw data**: daily temperatures.\n",
        "* Shows all components together: trend + seasonal + residual.\n",
        "* we can see clear **yearly seasonality** (summer vs winter) and **short-term fluctuations** (daily variation).\n",
        "\n",
        "---\n",
        "\n",
        "### **2️⃣ Trend (Second plot)**\n",
        "\n",
        "* The **long-term direction** of the series.\n",
        "* Smoothed line over time (usually with moving average or LOESS).\n",
        "* Shows **gradual increase or decrease** over years.\n",
        "* In the chart:\n",
        "\n",
        "  * From 1981–1987, slight downward trend.\n",
        "  * Around 1987–1990, slight upward trend.\n",
        "* Captures **slow changes in average temperature**.\n",
        "\n",
        "---\n",
        "\n",
        "### **3️⃣ Seasonal (Third plot)**\n",
        "\n",
        "* The **repeating pattern within each year**.\n",
        "* Seasonal component is **periodic**, in this case yearly (`period=365`).\n",
        "* Shows **winter lows and summer highs** recurring each year.\n",
        "* The amplitude is consistent (additive model assumes constant amplitude).\n",
        "\n",
        "---\n",
        "\n",
        "### **4️⃣ Residual / Remainder (Bottom plot)**\n",
        "\n",
        "* The **noise** or **unexplained variation** after removing trend and seasonality.\n",
        "* Ideally looks **random around 0**.\n",
        "* In chart:\n",
        "\n",
        "  * Most points hover around 0.\n",
        "  * Occasional spikes → unusual temperature events or measurement noise.\n",
        "\n",
        "---\n",
        "\n",
        "### ✅ How to interpret this decomposition:\n",
        "\n",
        "1. **Trend** → underlying long-term increase/decrease.\n",
        "2. **Seasonal** → repeated patterns (summer/winter cycles).\n",
        "3. **Residual** → random fluctuations, errors, or outliers.\n",
        "4. **Observed** → combination of all three.\n",
        "\n",
        "---\n",
        "\n",
        "💡 **Why use decomposition?**\n",
        "\n",
        "* Helps **understand the structure** of your series.\n",
        "* **Preprocessing**: remove trend/seasonality before modeling residuals.\n",
        "* **Forecasting**: you can forecast trend and seasonality separately, then combine.\n"
      ],
      "metadata": {
        "id": "FqmfmmnVuUfy"
      }
    },
    {
      "cell_type": "code",
      "source": [
        "result.seasonal.plot(figsize=(8, 4), title='Seasonal Component')\n",
        "plt.show()"
      ],
      "metadata": {
        "id": "YvgC1CUzs_GU"
      },
      "execution_count": null,
      "outputs": []
    },
    {
      "cell_type": "code",
      "source": [
        "data['Temperature'].max()"
      ],
      "metadata": {
        "id": "ny581NpRvy-c"
      },
      "execution_count": null,
      "outputs": []
    },
    {
      "cell_type": "code",
      "source": [
        "data.resample(rule='A').min()"
      ],
      "metadata": {
        "id": "ll1pe3Uigi1n"
      },
      "execution_count": null,
      "outputs": []
    },
    {
      "cell_type": "code",
      "source": [
        "data.resample(rule='A').max()"
      ],
      "metadata": {
        "id": "x9UHaZJhh8q-"
      },
      "execution_count": null,
      "outputs": []
    },
    {
      "cell_type": "markdown",
      "source": [
        "**Test for Stationarity**\n",
        "\n",
        "Use Augmented Dickey-Fuller test (ADF test):\n",
        "\n",
        "\n",
        "\n",
        "*   p-value < 0.05 → reject null hypothesis → data is stationary\n",
        "*   p-value > 0.05 → not stationary → apply transformations\n",
        "\n"
      ],
      "metadata": {
        "id": "yIX2jSjMxkXG"
      }
    },
    {
      "cell_type": "code",
      "source": [
        "\n",
        "result = adfuller(data['Temperature'].dropna())\n",
        "print('ADF Statistic:', result[0])\n",
        "print('p-value:', result[1])\n"
      ],
      "metadata": {
        "id": "-1rSXwnbiwNL"
      },
      "execution_count": null,
      "outputs": []
    },
    {
      "cell_type": "markdown",
      "source": [
        "Above results means the data is stationary(i.e mean, variance do not change over time)\n",
        "\n",
        "for ARIMA or SARIMA the value for I (i.e differencing could be 0)"
      ],
      "metadata": {
        "id": "FlUw59E0MmG0"
      }
    },
    {
      "cell_type": "code",
      "source": [
        "rolmean = data['Temperature'].rolling(window=365).mean()\n",
        "rolstd = data['Temperature'].rolling(window=365).std()\n",
        "\n",
        "plt.figure(figsize=(12,4))\n",
        "plt.plot(data['Temperature'], color='blue', label='Original')\n",
        "plt.plot(rolmean, color='red', label='Rolling Mean')\n",
        "plt.plot(rolstd, color='black', label='Rolling Std')\n",
        "# data['Temperature'].plot(figsize=(12,4), title='Original Series')\n",
        "\n",
        "plt.legend()\n",
        "plt.title('Rolling Mean & Standard Deviation')\n",
        "plt.show()\n"
      ],
      "metadata": {
        "id": "iz3weXXmjBAJ"
      },
      "execution_count": null,
      "outputs": []
    },
    {
      "cell_type": "markdown",
      "source": [
        "**Above graph shows both red and balck line in straight( not showing any upward or downwrad trend) which means data is stationary.**\n",
        "\n",
        "Above results means the data is stationary(i.e mean, variance do not change over time)\n",
        "\n",
        "for ARIMA or SARIMA the value for I (i.e differencing could be 0)"
      ],
      "metadata": {
        "id": "Zp0al3vwNTJA"
      }
    },
    {
      "cell_type": "markdown",
      "source": [
        "**Checking for ACF and PACF with lag 7,14,30 and 60 lags, as we have daily data to check for weekly, 2weekly , monthly and 2monthly**"
      ],
      "metadata": {
        "id": "Mn8NIp6c2z_Z"
      }
    },
    {
      "cell_type": "code",
      "source": [
        "plot_acf(data['Temperature'].dropna())\n",
        "plot_pacf(data['Temperature'].dropna())\n",
        "plt.show()\n"
      ],
      "metadata": {
        "id": "KAEA9eo41aps"
      },
      "execution_count": null,
      "outputs": []
    },
    {
      "cell_type": "markdown",
      "source": [
        "In ACF, we can see the positive correlation, means the previous day temperature has impact for next day temperature.\n",
        "\n",
        "lag2 is showing spike so,may be we can try with AR(2)"
      ],
      "metadata": {
        "id": "he8km_O_5ka-"
      }
    },
    {
      "cell_type": "code",
      "source": [
        "plot_acf(data['Temperature'].dropna(), lags=14)\n",
        "plot_pacf(data['Temperature'].dropna(), lags=14)\n",
        "plt.show()\n"
      ],
      "metadata": {
        "id": "2lzzoYB03ILh"
      },
      "execution_count": null,
      "outputs": []
    },
    {
      "cell_type": "code",
      "source": [
        "plot_acf(data['Temperature'].dropna(), lags=30)\n",
        "plot_pacf(data['Temperature'].dropna(), lags=30)\n",
        "plt.show()\n"
      ],
      "metadata": {
        "id": "PUsEIDCL3oAT"
      },
      "execution_count": null,
      "outputs": []
    },
    {
      "cell_type": "code",
      "source": [
        "plot_acf(data['Temperature'].dropna(), lags=60)\n",
        "plot_pacf(data['Temperature'].dropna(), lags=60)\n",
        "plt.show()\n"
      ],
      "metadata": {
        "id": "X3d_bGDu3t_D"
      },
      "execution_count": null,
      "outputs": []
    },
    {
      "cell_type": "code",
      "source": [
        "plot_acf(data['Temperature'].dropna(), lags=14)\n",
        "plot_pacf(data['Temperature'].dropna(), lags=14)\n",
        "plt.show()\n"
      ],
      "metadata": {
        "id": "WgF8fCtk3X85"
      },
      "execution_count": null,
      "outputs": []
    },
    {
      "cell_type": "code",
      "source": [
        "# Split data into training and testing sets\n",
        "train_size = int(len(data) * 0.8)\n",
        "train_data, test_data = data[0:train_size], data[train_size:]\n",
        "\n",
        "print('Training dataset shape:', train_data.shape)\n",
        "print('Testing dataset shape:', test_data.shape)"
      ],
      "metadata": {
        "id": "LLSg_J3hyrkE"
      },
      "execution_count": null,
      "outputs": []
    },
    {
      "cell_type": "code",
      "source": [
        "test_data"
      ],
      "metadata": {
        "id": "tc_qC1-0zLHF"
      },
      "execution_count": null,
      "outputs": []
    },
    {
      "cell_type": "code",
      "source": [
        "\n",
        "results = []\n",
        "\n",
        "# Loop through p, d, q\n",
        "for p in range(0, 5):\n",
        "    for d in range(0, 3):\n",
        "        for q in range(0, 5):\n",
        "            try:\n",
        "                # Fit model on training data\n",
        "                model = ARIMA(train_data, order=(p, d, q))\n",
        "                model_fit = model.fit()\n",
        "\n",
        "\n",
        "                # Training evaluation\n",
        "\n",
        "                train_pred = model_fit.predict(start=0, end=len(train_data)-1)\n",
        "                train_rmse = np.sqrt(mean_squared_error(train_data, train_pred))\n",
        "                train_r2 = r2_score(train_data, train_pred)\n",
        "\n",
        "\n",
        "                # Testing evaluation (forecast)\n",
        "\n",
        "                test_pred = model_fit.forecast(steps=len(test_data))\n",
        "                test_rmse = np.sqrt(mean_squared_error(test_data, test_pred))\n",
        "                test_r2 = r2_score(test_data, test_pred)\n",
        "\n",
        "\n",
        "                results.append({\n",
        "                    'p': p, 'd': d, 'q': q,\n",
        "                    'AIC': model_fit.aic,\n",
        "                    'BIC': model_fit.bic,\n",
        "                    'Train_RMSE': train_rmse,\n",
        "                    'Train_R2': train_r2,\n",
        "                    'Test_RMSE': test_rmse,\n",
        "                    'Test_R2': test_r2\n",
        "                })\n",
        "\n",
        "            except:\n",
        "                continue  # skip invalid combos\n",
        "\n",
        "# Convert to DataFrame\n",
        "results_df = pd.DataFrame(results)\n",
        "\n",
        "# Sort by Test_RMSE\n",
        "results_df = results_df.sort_values(by=\"Test_RMSE\").reset_index(drop=True)\n",
        "\n",
        "# Show top 10 models\n",
        "print(results_df.head(10))\n"
      ],
      "metadata": {
        "id": "1Jh9UEqG6P3W"
      },
      "execution_count": null,
      "outputs": []
    },
    {
      "cell_type": "code",
      "source": [
        "best_by_rmse = results_df.loc[results_df['Train_RMSE'].idxmin()]\n",
        "best_by_r2 = results_df.loc[results_df['Train_R2'].idxmax()]\n",
        "best_by_aic = results_df.loc[results_df['AIC'].idxmin()]\n",
        "best_by_bic = results_df.loc[results_df['BIC'].idxmin()]\n",
        "\n",
        "# print(\"\\nTop 5 Models by Test RMSE:\\n\", results_df.head(5))\n",
        "print(\"\\nBest by RMSE:\\n\", best_by_rmse)\n",
        "print(\"\\nBest by R²:\\n\", best_by_r2)\n",
        "print(\"\\nBest by AIC:\\n\", best_by_aic)\n",
        "print(\"\\nBest by BIC:\\n\", best_by_bic)"
      ],
      "metadata": {
        "id": "pUQxjT5K6Pyq"
      },
      "execution_count": null,
      "outputs": []
    },
    {
      "cell_type": "code",
      "source": [
        "best_model = ARIMA(train_data['Temperature'], order=(1, 0, 2))\n",
        "best_fit = best_model.fit()\n",
        "\n",
        "train_pred = best_fit.predict(start=0, end=len(train_data)-1)\n",
        "\n",
        "# Forecast on test set\n",
        "test_data['ARMA'] = best_fit.forecast(steps=len(test_data))\n",
        "\n",
        "# Plot results\n",
        "plt.figure(figsize=(12,6))\n",
        "plt.plot(train_data.index, train_data['Temperature'], label=\"Training Actual\", color=\"blue\")\n",
        "plt.plot(train_data.index, train_pred, label=\"Training Predicted\", color=\"red\")\n",
        "plt.plot(test_data.index, test_data['Temperature'], label=\"Test Actual\", color=\"green\")\n",
        "plt.plot(test_data.index, test_data['ARMA'], label=\"Test Forecast\", color=\"orange\")\n",
        "plt.xlabel(\"Date\")\n",
        "plt.ylabel(\"Temperature\")\n",
        "plt.title(f\"ARIMA 1, 0, 2\")\n",
        "plt.legend()\n",
        "plt.show()\n"
      ],
      "metadata": {
        "id": "mUlEFgN0AKtl"
      },
      "execution_count": null,
      "outputs": []
    },
    {
      "cell_type": "code",
      "source": [
        "best_model = ARIMA(train_data['Temperature'], order=(4,0,2))\n",
        "best_fit = best_model.fit()\n",
        "\n",
        "train_pred = best_fit.predict(start=0, end=len(train_data)-1)\n",
        "\n",
        "# Forecast on test set\n",
        "test_data['ARMA'] = best_fit.forecast(steps=len(test_data))\n",
        "\n",
        "# Plot results\n",
        "plt.figure(figsize=(12,6))\n",
        "plt.plot(train_data.index, train_data['Temperature'], label=\"Training Actual\", color=\"blue\")\n",
        "plt.plot(train_data.index, train_pred, label=\"Training Predicted\", color=\"red\")\n",
        "plt.plot(test_data.index, test_data['Temperature'], label=\"Test Actual\", color=\"green\")\n",
        "plt.plot(test_data.index, test_data['ARMA'], label=\"Test Forecast\", color=\"orange\")\n",
        "plt.xlabel(\"Date\")\n",
        "plt.ylabel(\"Temperature\")\n",
        "plt.title(f\"ARIMA 4, 0, 2\")\n",
        "plt.legend()\n",
        "plt.show()\n"
      ],
      "metadata": {
        "id": "oD28-Kkj6PtN"
      },
      "execution_count": null,
      "outputs": []
    },
    {
      "cell_type": "code",
      "source": [
        "best_model = ARIMA(train_data['Temperature'], order=(2,1,1))\n",
        "best_fit = best_model.fit()\n",
        "\n",
        "train_pred = best_fit.predict(start=0, end=len(train_data)-1)\n",
        "\n",
        "# Forecast on test set\n",
        "test_data['ARMA'] = best_fit.forecast(steps=len(test_data))\n",
        "\n",
        "# Plot results\n",
        "plt.figure(figsize=(12,6))\n",
        "plt.plot(train_data.index, train_data['Temperature'], label=\"Training Actual\", color=\"blue\")\n",
        "plt.plot(train_data.index, train_pred, label=\"Training Predicted\", color=\"red\")\n",
        "plt.plot(test_data.index, test_data['Temperature'], label=\"Test Actual\", color=\"green\")\n",
        "plt.plot(test_data.index, test_data['ARMA'], label=\"Test Forecast\", color=\"orange\")\n",
        "plt.xlabel(\"Date\")\n",
        "plt.ylabel(\"Temperature\")\n",
        "plt.title(f\"ARIMA 4, 0, 3 - Train & Test Prediction\")\n",
        "plt.legend()\n",
        "plt.show()\n"
      ],
      "metadata": {
        "id": "h2wVSEytBjBi"
      },
      "execution_count": null,
      "outputs": []
    },
    {
      "cell_type": "code",
      "source": [
        "best_model = ARIMA(train_data['Temperature'], order=(1,0,2))\n",
        "best_fit = best_model.fit()\n",
        "\n",
        "train_pred = best_fit.predict(start=0, end=len(train_data)-1)\n",
        "\n",
        "# Forecast on test set\n",
        "test_data['ARMA'] = best_fit.forecast(steps=len(test_data))\n",
        "\n",
        "# Plot results\n",
        "plt.figure(figsize=(12,6))\n",
        "plt.plot(train_data.index, train_data['Temperature'], label=\"Training Actual\", color=\"blue\")\n",
        "plt.plot(train_data.index, train_pred, label=\"Training Predicted\", color=\"red\")\n",
        "plt.plot(test_data.index, test_data['Temperature'], label=\"Test Actual\", color=\"green\")\n",
        "plt.plot(test_data.index, test_data['ARMA'], label=\"Test Forecast\", color=\"orange\")\n",
        "plt.xlabel(\"Date\")\n",
        "plt.ylabel(\"Temperature\")\n",
        "plt.title(f\"ARIMA 1, 0, 2 \")\n",
        "plt.legend()\n",
        "plt.show()\n"
      ],
      "metadata": {
        "id": "UQNY1BkLtdJ5"
      },
      "execution_count": null,
      "outputs": []
    },
    {
      "cell_type": "markdown",
      "source": [
        "SARIMAX (ARIMA with Seasonal)"
      ],
      "metadata": {
        "id": "UNi1zj9i4r2i"
      }
    },
    {
      "cell_type": "code",
      "source": [
        "train_data"
      ],
      "metadata": {
        "id": "8boUU-dRo_hM"
      },
      "execution_count": null,
      "outputs": []
    },
    {
      "cell_type": "code",
      "source": [
        "results = []\n",
        "\n",
        "# Define seasonal period (90 for quarterly / ~3 months)\n",
        "seasonal_period = 90\n",
        "\n",
        "# Loop through p, d, q and seasonal P, D, Q\n",
        "for p in range(0, 5):      # non-seasonal AR\n",
        "    for d in range(0, 1):  # non-seasonal differencing\n",
        "        for q in range(0, 3):  # non-seasonal MA\n",
        "            for P in range(0, 2):   # seasonal AR\n",
        "                for D in range(0, 2):  # seasonal differencing\n",
        "                    for Q in range(0, 2):  # seasonal MA\n",
        "                        try:\n",
        "                            model = SARIMAX(\n",
        "                                train_data,\n",
        "                                order=(p, d, q),\n",
        "                                seasonal_order=(P, D, Q, seasonal_period),\n",
        "                                enforce_stationarity=False,\n",
        "                                enforce_invertibility=False\n",
        "                            )\n",
        "                            model_fit = model.fit(disp=False)\n",
        "\n",
        "                            # --- Predictions ---\n",
        "                            train_pred = model_fit.predict(start=0, end=len(train_data)-1)\n",
        "                            # train_pred = np.array(train_pred).flatten()[:len(train_data)]\n",
        "\n",
        "                            test_pred = model_fit.forecast(steps=len(test_data))\n",
        "                            # test_pred = np.array(test_pred).flatten()[:len(test_data)]\n",
        "\n",
        "                            # --- Skip invalid lengths ---\n",
        "                            if len(train_pred) != len(train_data) or len(test_pred) != len(test_data):\n",
        "                                continue\n",
        "\n",
        "                            # --- Metrics ---\n",
        "                            train_rmse = np.sqrt(mean_squared_error(train_data, train_pred))\n",
        "                            train_r2 = r2_score(train_data, train_pred)\n",
        "                            test_rmse = np.sqrt(mean_squared_error(test_data, test_pred))\n",
        "                            test_r2 = r2_score(test_data, test_pred)\n",
        "\n",
        "                            # --- Append results ---\n",
        "                            results.append({\n",
        "                                'p': p, 'd': d, 'q': q,\n",
        "                                'P': P, 'D': D, 'Q': Q,\n",
        "                                'AIC': model_fit.aic,\n",
        "                                'BIC': model_fit.bic,\n",
        "                                'Train_RMSE': train_rmse,\n",
        "                                'Train_R2': train_r2,\n",
        "                                'Test_RMSE': test_rmse,\n",
        "                                'Test_R2': test_r2\n",
        "                            })\n",
        "\n",
        "                        except Exception as e:\n",
        "                            print(f\"Error with parameters (p,d,q)=({p},{d},{q}) and seasonal (P,D,Q)=({P},{D},{Q}): {e}\")\n",
        "                            continue\n",
        "\n",
        "# --- Results summary ---\n",
        "if results:\n",
        "    results_df = pd.DataFrame(results)\n",
        "    results_df = results_df.sort_values(by=\"Test_RMSE\").reset_index(drop=True)\n",
        "    print(\"\\nTop 10 SARIMAX Models:\")\n",
        "    print(results_df.head(10))\n",
        "else:\n",
        "    print(\"No valid SARIMAX models were fitted.\")\n"
      ],
      "metadata": {
        "id": "k3K0xOM24ufM"
      },
      "execution_count": null,
      "outputs": []
    },
    {
      "cell_type": "code",
      "source": [
        "results_df = results_df.sort_values(by=\"AIC\").reset_index(drop=True)\n",
        "results_df.head(10)"
      ],
      "metadata": {
        "id": "Bzz3CqZQteCC"
      },
      "execution_count": null,
      "outputs": []
    },
    {
      "cell_type": "code",
      "source": [
        "best_model = SARIMAX(train_data['Temperature'], order=(4,0,1), seasonal_order=(1,1,1,90), enforce_stationarity=False, enforce_invertibility=False)\n",
        "best_fit = best_model.fit()\n",
        "\n",
        "train_pred = best_fit.predict(start=0, end=len(train_data)-1)\n",
        "\n",
        "# Forecast on test set\n",
        "test_data['SARIMAX'] = best_fit.forecast(steps=len(test_data))\n",
        "\n",
        "# Plot results\n",
        "plt.figure(figsize=(12,6))\n",
        "plt.plot(train_data.index, train_data['Temperature'], label=\"Training Actual\", color=\"blue\")\n",
        "plt.plot(train_data.index, train_pred, label=\"Training Predicted\", color=\"red\")\n",
        "plt.plot(test_data.index, test_data['Temperature'], label=\"Test Actual\", color=\"green\")\n",
        "plt.plot(test_data.index, test_data['SARIMAX'], label=\"Test Forecast\", color=\"orange\")\n",
        "plt.xlabel(\"Date\")\n",
        "plt.ylabel(\"Temperature\")\n",
        "plt.title(f\"SARIMAX order=(4,0,1), seasonal_order=(1,1,1,365)\")\n",
        "plt.legend()\n",
        "plt.show()"
      ],
      "metadata": {
        "id": "TbEBQaA34ub3"
      },
      "execution_count": null,
      "outputs": []
    },
    {
      "cell_type": "code",
      "source": [],
      "metadata": {
        "id": "IVt33KGr4uW2"
      },
      "execution_count": null,
      "outputs": []
    },
    {
      "cell_type": "code",
      "source": [],
      "metadata": {
        "id": "sSRP2cjE4uTv"
      },
      "execution_count": null,
      "outputs": []
    },
    {
      "cell_type": "code",
      "source": [],
      "metadata": {
        "id": "vQFiO6EU4uQh"
      },
      "execution_count": null,
      "outputs": []
    },
    {
      "cell_type": "code",
      "source": [],
      "metadata": {
        "id": "86Hwl2_44t3s"
      },
      "execution_count": null,
      "outputs": []
    },
    {
      "cell_type": "code",
      "source": [],
      "metadata": {
        "id": "3BzE7SsC6Pnt"
      },
      "execution_count": null,
      "outputs": []
    },
    {
      "cell_type": "markdown",
      "source": [
        "SimpleRNN"
      ],
      "metadata": {
        "id": "9NyTduzeFXtJ"
      }
    },
    {
      "cell_type": "code",
      "source": [
        "scaler = MinMaxScaler(feature_range=(0, 1))\n",
        "\n",
        "# Fit on training data only\n",
        "train_scaled = scaler.fit_transform(train_data[['Temperature']])\n",
        "test_scaled = scaler.transform(test_data[['Temperature']])\n"
      ],
      "metadata": {
        "id": "WQaEXqKDXstA"
      },
      "execution_count": null,
      "outputs": []
    },
    {
      "cell_type": "code",
      "source": [
        "window_size = 30"
      ],
      "metadata": {
        "id": "rQ2mj8XPXshz"
      },
      "execution_count": null,
      "outputs": []
    },
    {
      "cell_type": "code",
      "source": [
        "def create_sequences(data, window_size=30):\n",
        "    \"\"\"Create sequences of length window_size for RNN input\"\"\"\n",
        "    xs, ys = [], []\n",
        "    for i in range(len(data) - window_size):\n",
        "        x = data[i:(i+window_size)]\n",
        "        y = data[i+window_size]\n",
        "        xs.append(x)\n",
        "        ys.append(y)\n",
        "    return np.array(xs), np.array(ys)\n",
        "\n",
        "\n",
        "\n"
      ],
      "metadata": {
        "id": "Q_leT_gs6PlI"
      },
      "execution_count": null,
      "outputs": []
    },
    {
      "cell_type": "code",
      "source": [
        "train_scaled = train_data['Temperature'].values\n",
        "test_scaled = test_data['Temperature'].values\n",
        "\n",
        "# Create training sequences\n",
        "X_train, y_train = create_sequences(train_scaled, window_size)\n",
        "X_test, y_test = create_sequences(np.concatenate([train_scaled[-window_size:], test_scaled]), window_size)\n",
        "\n",
        "# Reshape for RNN: (samples, timesteps, features)\n",
        "X_train = X_train.reshape((X_train.shape[0], X_train.shape[1], 1))\n",
        "X_test = X_test.reshape((X_test.shape[0], X_test.shape[1], 1))\n"
      ],
      "metadata": {
        "id": "Uo92quqoYljx"
      },
      "execution_count": null,
      "outputs": []
    },
    {
      "cell_type": "code",
      "source": [
        "#RNN model\n",
        "rnn_model = Sequential([\n",
        "    SimpleRNN(64, activation='tanh', input_shape=(window_size, 1)),\n",
        "    Dense(1)\n",
        "])\n",
        "\n",
        "rnn_model.compile(optimizer='adam', loss='mse')\n",
        "\n",
        "#Train model\n",
        "history = rnn_model.fit(X_train, y_train, epochs=100, batch_size=32, verbose=1, validation_split=0.1)\n"
      ],
      "metadata": {
        "id": "mxv-CtfW6PiR"
      },
      "execution_count": null,
      "outputs": []
    },
    {
      "cell_type": "code",
      "source": [
        "rnn_model.summary()"
      ],
      "metadata": {
        "id": "Jbq5YE3UGSec"
      },
      "execution_count": null,
      "outputs": []
    },
    {
      "cell_type": "code",
      "source": [
        "# Predictions\n",
        "train_pred_rnn = rnn_model.predict(X_train)\n",
        "test_pred_rnn = rnn_model.predict(X_test)\n",
        "\n",
        "# Metrics\n",
        "train_rmse = np.sqrt(mean_squared_error(y_train, train_pred_rnn))\n",
        "train_r2 = r2_score(y_train, train_pred_rnn)\n",
        "\n",
        "test_rmse = np.sqrt(mean_squared_error(y_test, test_pred_rnn))\n",
        "test_r2 = r2_score(y_test, test_pred_rnn)\n",
        "\n",
        "print(\"RNN Results:\")\n",
        "print(f\"Train RMSE: {train_rmse:.3f}, Train R²: {train_r2:.3f}\")\n",
        "print(f\"Test RMSE: {test_rmse:.3f}, Test R²: {test_r2:.3f}\")\n"
      ],
      "metadata": {
        "id": "IM16HtKc6PfW"
      },
      "execution_count": null,
      "outputs": []
    },
    {
      "cell_type": "code",
      "source": [
        "rnn_results_df = pd.DataFrame([{\n",
        "    'p': 'RNN', 'd': '-', 'q': '-',\n",
        "    'AIC': np.nan, 'BIC': np.nan,\n",
        "    'Train_RMSE': train_rmse,\n",
        "    'Train_R2': train_r2,\n",
        "    'Test_RMSE': test_rmse,\n",
        "    'Test_R2': test_r2\n",
        "}])\n",
        "\n",
        "results_df = pd.concat([results_df, rnn_results_df], ignore_index=True)\n",
        "\n",
        "# Sort by Test_RMSE again\n",
        "results_df = results_df.sort_values(by=\"Test_RMSE\").reset_index(drop=True)\n",
        "\n",
        "print(results_df.tail())  # Show last rows including RNN"
      ],
      "metadata": {
        "id": "La-4SYvH6Pcp"
      },
      "execution_count": null,
      "outputs": []
    },
    {
      "cell_type": "code",
      "source": [
        "\n",
        "# Plot Training Data\n",
        "plt.figure(figsize=(12,6))\n",
        "plt.plot(y_train, label=\"Training Data (Actual)\", color=\"blue\")\n",
        "plt.plot(train_pred_rnn, label=\"RNN Prediction (Train)\", color=\"red\")\n",
        "plt.title(\"RNN Training Data vs Predictions\")\n",
        "plt.xlabel(\"Time Step\")\n",
        "plt.ylabel(\"Temperature\")\n",
        "plt.legend()\n",
        "plt.show()\n",
        "\n",
        "# Plot Testing Data\n",
        "plt.figure(figsize=(12,6))\n",
        "plt.plot(y_test, label=\"Testing Data (Actual)\", color=\"blue\")\n",
        "plt.plot(test_pred_rnn, label=\"RNN Prediction (Test)\", color=\"green\")\n",
        "plt.title(\"RNN Testing Data vs Predictions\")\n",
        "plt.xlabel(\"Time Step\")\n",
        "plt.ylabel(\"Temperature\")\n",
        "plt.legend()\n",
        "plt.show()\n"
      ],
      "metadata": {
        "id": "4Ec8WI001tJB"
      },
      "execution_count": null,
      "outputs": []
    },
    {
      "cell_type": "code",
      "source": [],
      "metadata": {
        "id": "Od1VdAzBYcSp"
      },
      "execution_count": null,
      "outputs": []
    },
    {
      "cell_type": "code",
      "source": [],
      "metadata": {
        "id": "3OGv8ALbM11i"
      },
      "execution_count": null,
      "outputs": []
    },
    {
      "cell_type": "markdown",
      "source": [
        "LSTM (Long Short-Term Memory)"
      ],
      "metadata": {
        "id": "mCW8VJarM2dq"
      }
    },
    {
      "cell_type": "code",
      "source": [
        "# LSTM model\n",
        "lstm_model = Sequential([\n",
        "    LSTM(64, activation=\"tanh\", input_shape=(window_size, 1)),\n",
        "    Dense(1)\n",
        "])\n",
        "\n",
        "lstm_model.compile(optimizer=\"adam\", loss=\"mse\")\n",
        "\n",
        "# Train model\n",
        "history = lstm_model.fit(\n",
        "    X_train, y_train,\n",
        "    epochs=100,\n",
        "    batch_size=32,\n",
        "    verbose=1,\n",
        "    validation_split=0.1\n",
        ")\n"
      ],
      "metadata": {
        "id": "8qxwk7P7M1zf"
      },
      "execution_count": null,
      "outputs": []
    },
    {
      "cell_type": "code",
      "source": [
        "lstm_model.summary()"
      ],
      "metadata": {
        "id": "vwLJCpVYIyz3"
      },
      "execution_count": null,
      "outputs": []
    },
    {
      "cell_type": "code",
      "source": [
        "# Predictions\n",
        "train_pred_lstm = lstm_model.predict(X_train)\n",
        "test_pred_lstm = lstm_model.predict(X_test)\n",
        "\n",
        "# Metrics\n",
        "train_rmse = np.sqrt(mean_squared_error(y_train, train_pred_lstm))\n",
        "train_r2 = r2_score(y_train, train_pred_lstm)\n",
        "\n",
        "test_rmse = np.sqrt(mean_squared_error(y_test, test_pred_lstm))\n",
        "test_r2 = r2_score(y_test, test_pred_lstm)\n",
        "\n",
        "print(\"LSTM Results:\")\n",
        "print(f\"Train RMSE: {train_rmse:.3f}, Train R²: {train_r2:.3f}\")\n",
        "print(f\"Test RMSE: {test_rmse:.3f}, Test R²: {test_r2:.3f}\")\n"
      ],
      "metadata": {
        "id": "mS7pgF1krKlO"
      },
      "execution_count": null,
      "outputs": []
    },
    {
      "cell_type": "code",
      "source": [
        "\n",
        "# Plot Training Data\n",
        "plt.figure(figsize=(12,6))\n",
        "plt.plot(y_train, label=\"Training Data (Actual)\", color=\"blue\")\n",
        "plt.plot(train_pred_lstm, label=\"RNN Prediction (Train)\", color=\"red\")\n",
        "plt.title(\"RNN Training Data vs Predictions\")\n",
        "plt.xlabel(\"Time Step\")\n",
        "plt.ylabel(\"Temperature\")\n",
        "plt.legend()\n",
        "plt.show()\n",
        "\n",
        "# Plot Testing Data\n",
        "plt.figure(figsize=(12,6))\n",
        "plt.plot(y_test, label=\"Testing Data (Actual)\", color=\"blue\")\n",
        "plt.plot(test_pred_lstm, label=\"RNN Prediction (Test)\", color=\"green\")\n",
        "plt.title(\"RNN Testing Data vs Predictions\")\n",
        "plt.xlabel(\"Time Step\")\n",
        "plt.ylabel(\"Temperature\")\n",
        "plt.legend()\n",
        "plt.show()\n"
      ],
      "metadata": {
        "id": "Bm5caFWbrnuj"
      },
      "execution_count": null,
      "outputs": []
    },
    {
      "cell_type": "code",
      "source": [
        "lstm_model = Sequential([\n",
        "    LSTM(64, return_sequences=True, input_shape=(window_size, 1), dropout=0.2),\n",
        "    LSTM(32, dropout=0.2),\n",
        "    Dense(1)\n",
        "])\n",
        "\n",
        "lstm_model.compile(optimizer=\"adam\", loss=\"mse\")\n",
        "\n",
        "early_stop = EarlyStopping(monitor=\"val_loss\", patience=10, restore_best_weights=True)\n",
        "\n",
        "history = lstm_model.fit(\n",
        "    X_train, y_train,\n",
        "    epochs=200,\n",
        "    batch_size=32,\n",
        "    validation_split=0.1,\n",
        "    callbacks=[early_stop]\n",
        ")\n"
      ],
      "metadata": {
        "id": "ouITd-JJ3qBo"
      },
      "execution_count": null,
      "outputs": []
    },
    {
      "cell_type": "code",
      "source": [
        "lstm_model.summary()"
      ],
      "metadata": {
        "id": "h4pSlSKJKm8F"
      },
      "execution_count": null,
      "outputs": []
    },
    {
      "cell_type": "code",
      "source": [
        "train_pred_lstm = lstm_model.predict(X_train)\n",
        "test_pred_lstm = lstm_model.predict(X_test)\n",
        "\n",
        "\n",
        "train_rmse = np.sqrt(mean_squared_error(y_train, train_pred_lstm))\n",
        "train_r2 = r2_score(y_train, train_pred_lstm)\n",
        "\n",
        "test_rmse = np.sqrt(mean_squared_error(y_test, test_pred_lstm))\n",
        "test_r2 = r2_score(y_test, test_pred_lstm)\n",
        "\n",
        "print(\"LSTM Results\")\n",
        "print(f\"Train → RMSE: {train_rmse:.3f}, R²: {train_r2:.3f}\")\n",
        "print(f\"Test  → RMSE: {test_rmse:.3f}, R²: {test_r2:.3f}\")\n"
      ],
      "metadata": {
        "id": "p9l0J63DM1wG"
      },
      "execution_count": null,
      "outputs": []
    },
    {
      "cell_type": "code",
      "source": [],
      "metadata": {
        "id": "82DLjSYbM1tP"
      },
      "execution_count": null,
      "outputs": []
    },
    {
      "cell_type": "code",
      "source": [
        "# Plot Training Data\n",
        "plt.figure(figsize=(12,6))\n",
        "plt.plot(y_train, label=\"Training Data (Actual)\", color=\"blue\")\n",
        "plt.plot(train_pred_lstm, label=\"LSTM Prediction (Train)\", color=\"red\")\n",
        "plt.title(\"LSTM Training Data vs Predictions\")\n",
        "plt.xlabel(\"Time Step\")\n",
        "plt.ylabel(\"Temperature\")\n",
        "plt.legend()\n",
        "plt.show()\n",
        "\n",
        "# Plot Testing Data\n",
        "plt.figure(figsize=(12,6))\n",
        "plt.plot(y_test, label=\"Testing Data (Actual)\", color=\"blue\")\n",
        "plt.plot(test_pred_lstm, label=\"LSTM Prediction (Test)\", color=\"green\")\n",
        "plt.title(\"LSTM Testing Data vs Predictions\")\n",
        "plt.xlabel(\"Time Step\")\n",
        "plt.ylabel(\"Temperature\")\n",
        "plt.legend()\n",
        "plt.show()\n"
      ],
      "metadata": {
        "id": "L-usplZxM7DZ"
      },
      "execution_count": null,
      "outputs": []
    },
    {
      "cell_type": "markdown",
      "source": [
        "GRU (Gated Recurrent Unit)"
      ],
      "metadata": {
        "id": "8obW4wqmM7f3"
      }
    },
    {
      "cell_type": "code",
      "source": [],
      "metadata": {
        "id": "XBrPXvpWM7BE"
      },
      "execution_count": null,
      "outputs": []
    },
    {
      "cell_type": "code",
      "source": [
        "\n",
        "# GRU model\n",
        "gru_model = Sequential([\n",
        "    GRU(132, activation=\"tanh\", input_shape=(window_size,1)),\n",
        "    Dense(1)\n",
        "])\n",
        "\n",
        "gru_model.compile(optimizer=\"adam\", loss=\"mse\")\n",
        "\n",
        "# Train GRU\n",
        "history = gru_model.fit(\n",
        "    X_train, y_train,\n",
        "    epochs=300,\n",
        "    batch_size=32,\n",
        "    verbose=1,\n",
        "    validation_split=0.1\n",
        ")\n"
      ],
      "metadata": {
        "id": "1VHac1iUM6-c"
      },
      "execution_count": null,
      "outputs": []
    },
    {
      "cell_type": "code",
      "source": [
        "train_pred_gru = gru_model.predict(X_train)\n",
        "test_pred_gru = gru_model.predict(X_test)\n",
        "\n",
        "# Metrics\n",
        "train_rmse = np.sqrt(mean_squared_error(y_train, train_pred_gru))\n",
        "train_r2 = r2_score(y_train, train_pred_gru)\n",
        "\n",
        "test_rmse = np.sqrt(mean_squared_error(y_test, test_pred_gru))\n",
        "test_r2 = r2_score(y_test, test_pred_gru)\n",
        "\n",
        "print(\"GRU Results\")\n",
        "print(f\"Train → RMSE: {train_rmse:.3f}, R²: {train_r2:.3f}\")\n",
        "print(f\"Test  → RMSE: {test_rmse:.3f}, R²: {test_r2:.3f}\")\n"
      ],
      "metadata": {
        "id": "xQJSvgBIM673"
      },
      "execution_count": null,
      "outputs": []
    },
    {
      "cell_type": "code",
      "source": [
        "gru_model.summary()"
      ],
      "metadata": {
        "id": "uYYzu9_pM64y"
      },
      "execution_count": null,
      "outputs": []
    },
    {
      "cell_type": "code",
      "source": [
        "#Training Data vs GRU Prediction\n",
        "plt.figure(figsize=(12,6))\n",
        "plt.plot(y_train, label=\"Training Data (Actual)\", color=\"blue\")\n",
        "plt.plot(train_pred_gru, label=\"GRU Prediction (Train)\", color=\"red\")\n",
        "plt.title(\"GRU Training Data vs Predictions\")\n",
        "plt.xlabel(\"Time Step\")\n",
        "plt.ylabel(\"Temperature\")\n",
        "plt.legend()\n",
        "plt.show()\n",
        "\n",
        "#Testing Data vs GRU Prediction\n",
        "plt.figure(figsize=(12,6))\n",
        "plt.plot(y_test, label=\"Testing Data (Actual)\", color=\"blue\")\n",
        "plt.plot(test_pred_gru, label=\"GRU Prediction (Test)\", color=\"green\")\n",
        "plt.title(\"GRU Testing Data vs Predictions\")\n",
        "plt.xlabel(\"Time Step\")\n",
        "plt.ylabel(\"Temperature\")\n",
        "plt.legend()\n",
        "plt.show()\n"
      ],
      "metadata": {
        "id": "DrW47PCRM1pI"
      },
      "execution_count": null,
      "outputs": []
    },
    {
      "cell_type": "code",
      "source": [
        "early_stop = EarlyStopping(\n",
        "    monitor='val_loss',\n",
        "    patience=50,\n",
        "    restore_best_weights=True\n",
        ")\n",
        "\n",
        "# Build GRU model with 3 layers\n",
        "gru_model = Sequential([\n",
        "    GRU(132, activation='tanh', return_sequences=True, input_shape=(window_size, 1)),\n",
        "    Dropout(0.1),  # first dropout layer\n",
        "\n",
        "    GRU(64, activation='tanh', return_sequences=True),\n",
        "    Dropout(0.1),  # second dropout layer\n",
        "\n",
        "    GRU(32, activation='tanh'),\n",
        "    Dense(1)  # output layer\n",
        "])\n",
        "\n",
        "# Compile model\n",
        "gru_model.compile(optimizer='adam', loss='mse')\n",
        "\n",
        "# Train model\n",
        "history = gru_model.fit(\n",
        "    X_train, y_train,\n",
        "    epochs=500,\n",
        "    batch_size=32,\n",
        "    verbose=1,\n",
        "    validation_split=0.1,\n",
        "    callbacks=[early_stop]\n",
        ")\n"
      ],
      "metadata": {
        "id": "Nz78HnTqM_Mw"
      },
      "execution_count": null,
      "outputs": []
    },
    {
      "cell_type": "code",
      "source": [
        "gru_model.summary()"
      ],
      "metadata": {
        "id": "3q4k9SKlS0Uq"
      },
      "execution_count": null,
      "outputs": []
    },
    {
      "cell_type": "code",
      "source": [
        "train_pred_gru = gru_model.predict(X_train)\n",
        "test_pred_gru = gru_model.predict(X_test)\n",
        "\n",
        "# Metrics\n",
        "train_rmse = np.sqrt(mean_squared_error(y_train, train_pred_gru))\n",
        "train_r2 = r2_score(y_train, train_pred_gru)\n",
        "\n",
        "test_rmse = np.sqrt(mean_squared_error(y_test, test_pred_gru))\n",
        "test_r2 = r2_score(y_test, test_pred_gru)\n",
        "\n",
        "print(\"GRU Results\")\n",
        "print(f\"Train → RMSE: {train_rmse:.3f}, R²: {train_r2:.3f}\")\n",
        "print(f\"Test  → RMSE: {test_rmse:.3f}, R²: {test_r2:.3f}\")\n"
      ],
      "metadata": {
        "id": "HDPNBCQVtYAA"
      },
      "execution_count": null,
      "outputs": []
    },
    {
      "cell_type": "code",
      "source": [
        "#Training Data vs GRU Prediction\n",
        "plt.figure(figsize=(12,6))\n",
        "plt.plot(y_train, label=\"Training Data (Actual)\", color=\"blue\")\n",
        "plt.plot(train_pred_gru, label=\"GRU Prediction (Train)\", color=\"red\")\n",
        "plt.title(\"GRU Training Data vs Predictions\")\n",
        "plt.xlabel(\"Time Step\")\n",
        "plt.ylabel(\"Temperature\")\n",
        "plt.legend()\n",
        "plt.show()\n",
        "\n",
        "#Testing Data vs GRU Prediction\n",
        "plt.figure(figsize=(12,6))\n",
        "plt.plot(y_test, label=\"Testing Data (Actual)\", color=\"blue\")\n",
        "plt.plot(test_pred_gru, label=\"GRU Prediction (Test)\", color=\"green\")\n",
        "plt.title(\"GRU Testing Data vs Predictions\")\n",
        "plt.xlabel(\"Time Step\")\n",
        "plt.ylabel(\"Temperature\")\n",
        "plt.legend()\n",
        "plt.show()\n"
      ],
      "metadata": {
        "id": "4-bdi2Tqtfhy"
      },
      "execution_count": null,
      "outputs": []
    },
    {
      "cell_type": "markdown",
      "source": [
        "Bidirectional RNNs\n",
        "\n"
      ],
      "metadata": {
        "id": "98DbV6o3NAF3"
      }
    },
    {
      "cell_type": "code",
      "source": [
        "# Bidirectional RNN model\n",
        "bidir_model = Sequential([\n",
        "    Bidirectional(SimpleRNN(64, activation=\"tanh\"), input_shape=(window_size, 1)),\n",
        "    Dense(1)\n",
        "])\n",
        "\n",
        "bidir_model.compile(optimizer=\"adam\", loss=\"mse\")\n",
        "\n",
        "# Train model\n",
        "history = bidir_model.fit(\n",
        "    X_train, y_train,\n",
        "    epochs=500,\n",
        "    batch_size=32,\n",
        "    verbose=1,\n",
        "    validation_split=0.1\n",
        ")"
      ],
      "metadata": {
        "id": "eu3y9VNzM_KL"
      },
      "execution_count": null,
      "outputs": []
    },
    {
      "cell_type": "code",
      "source": [
        "bidir_model.summary()"
      ],
      "metadata": {
        "id": "4-Fop3PqUt56"
      },
      "execution_count": null,
      "outputs": []
    },
    {
      "cell_type": "code",
      "source": [
        "# Predictions\n",
        "train_pred_bidir = bidir_model.predict(X_train)\n",
        "test_pred_bidir = bidir_model.predict(X_test)\n",
        "\n",
        "# Metrics\n",
        "train_rmse = np.sqrt(mean_squared_error(y_train, train_pred_bidir))\n",
        "train_r2 = r2_score(y_train, train_pred_bidir)\n",
        "\n",
        "test_rmse = np.sqrt(mean_squared_error(y_test, test_pred_bidir))\n",
        "test_r2 = r2_score(y_test, test_pred_bidir)\n",
        "\n",
        "print(\"Bidirectional RNN Results\")\n",
        "print(f\"Train → RMSE: {train_rmse:.3f}, R²: {train_r2:.3f}\")\n",
        "print(f\"Test  → RMSE: {test_rmse:.3f}, R²: {test_r2:.3f}\")"
      ],
      "metadata": {
        "id": "uteN2gRxM_HD"
      },
      "execution_count": null,
      "outputs": []
    },
    {
      "cell_type": "code",
      "source": [],
      "metadata": {
        "id": "4DbbaGYENMDr"
      },
      "execution_count": null,
      "outputs": []
    },
    {
      "cell_type": "code",
      "source": [
        "#Training Data vs BiRNN Prediction\n",
        "plt.figure(figsize=(12,6))\n",
        "plt.plot(y_train, label=\"Training Data (Actual)\", color=\"blue\")\n",
        "plt.plot(train_pred_bidir, label=\"Bidirectional RNN Prediction (Train)\", color=\"red\")\n",
        "plt.title(\"Bidirectional RNN Training Data vs Predictions\")\n",
        "plt.xlabel(\"Time Step\")\n",
        "plt.ylabel(\"Temperature\")\n",
        "plt.legend()\n",
        "plt.show()\n",
        "\n",
        "#Testing Data vs BiRNN Prediction\n",
        "plt.figure(figsize=(12,6))\n",
        "plt.plot(y_test, label=\"Testing Data (Actual)\", color=\"blue\")\n",
        "plt.plot(test_pred_bidir, label=\"Bidirectional RNN Prediction (Test)\", color=\"green\")\n",
        "plt.title(\"Bidirectional RNN Testing Data vs Predictions\")\n",
        "plt.xlabel(\"Time Step\")\n",
        "plt.ylabel(\"Temperature\")\n",
        "plt.legend()\n",
        "plt.show()\n"
      ],
      "metadata": {
        "id": "fG5-H7vvNMBX"
      },
      "execution_count": null,
      "outputs": []
    },
    {
      "cell_type": "code",
      "source": [],
      "metadata": {
        "id": "NOo0ovooNL_Q"
      },
      "execution_count": null,
      "outputs": []
    },
    {
      "cell_type": "code",
      "source": [
        "early_stop = EarlyStopping(monitor='val_loss', patience=50, restore_best_weights=True)\n",
        "\n",
        "\n",
        "bidir_model = Sequential([\n",
        "    Bidirectional(SimpleRNN(132, return_sequences=True), input_shape=(window_size, 1)),\n",
        "    Dropout(0.2),\n",
        "\n",
        "    Bidirectional(SimpleRNN(64, return_sequences=True)),\n",
        "    LeakyReLU(alpha=0.1),\n",
        "    Dropout(0.1),\n",
        "\n",
        "    Bidirectional(SimpleRNN(16, return_sequences=True)),\n",
        "    LeakyReLU(alpha=0.1),\n",
        "    Dropout(0.1),\n",
        "\n",
        "    Bidirectional(SimpleRNN(32)),\n",
        "    Dense(16, activation=\"relu\"),\n",
        "    Dense(1)\n",
        "])\n",
        "\n",
        "# Optimizer with gradient clipping for stability\n",
        "optimizer = Adam(learning_rate=0.001, clipnorm=1.0)\n",
        "\n",
        "bidir_model.compile(optimizer=optimizer, loss=\"mse\")\n",
        "\n",
        "\n",
        "history = bidir_model.fit(\n",
        "    X_train, y_train,\n",
        "    epochs=500,\n",
        "    batch_size=32,\n",
        "    verbose=1,\n",
        "    validation_split=0.1,\n",
        "    callbacks=[early_stop]\n",
        ")\n"
      ],
      "metadata": {
        "id": "c4EmindsXEIc"
      },
      "execution_count": null,
      "outputs": []
    },
    {
      "cell_type": "code",
      "source": [
        "bidir_model.summary()"
      ],
      "metadata": {
        "id": "TNAqjbLiXEF0"
      },
      "execution_count": null,
      "outputs": []
    },
    {
      "cell_type": "code",
      "source": [
        "# Predictions\n",
        "train_pred_bidir = bidir_model.predict(X_train)\n",
        "test_pred_bidir = bidir_model.predict(X_test)\n",
        "\n",
        "# Metrics\n",
        "train_rmse = np.sqrt(mean_squared_error(y_train, train_pred_bidir))\n",
        "train_r2 = r2_score(y_train, train_pred_bidir)\n",
        "\n",
        "test_rmse = np.sqrt(mean_squared_error(y_test, test_pred_bidir))\n",
        "test_r2 = r2_score(y_test, test_pred_bidir)\n",
        "\n",
        "print(\"Bidirectional RNN Results\")\n",
        "print(f\"Train → RMSE: {train_rmse:.3f}, R²: {train_r2:.3f}\")\n",
        "print(f\"Test  → RMSE: {test_rmse:.3f}, R²: {test_r2:.3f}\")"
      ],
      "metadata": {
        "id": "er7cg-P5XEDP"
      },
      "execution_count": null,
      "outputs": []
    },
    {
      "cell_type": "code",
      "source": [
        "#Training Data vs BiRNN Prediction\n",
        "plt.figure(figsize=(12,6))\n",
        "plt.plot(y_train, label=\"Training Data (Actual)\", color=\"blue\")\n",
        "plt.plot(train_pred_bidir, label=\"Bidirectional RNN Prediction (Train)\", color=\"red\")\n",
        "plt.title(\"Bidirectional RNN Training Data vs Predictions\")\n",
        "plt.xlabel(\"Time Step\")\n",
        "plt.ylabel(\"Temperature\")\n",
        "plt.legend()\n",
        "plt.show()\n",
        "\n",
        "#Testing Data vs BiRNN Prediction\n",
        "plt.figure(figsize=(12,6))\n",
        "plt.plot(y_test, label=\"Testing Data (Actual)\", color=\"blue\")\n",
        "plt.plot(test_pred_bidir, label=\"Bidirectional RNN Prediction (Test)\", color=\"green\")\n",
        "plt.title(\"Bidirectional RNN Testing Data vs Predictions\")\n",
        "plt.xlabel(\"Time Step\")\n",
        "plt.ylabel(\"Temperature\")\n",
        "plt.legend()\n",
        "plt.show()\n"
      ],
      "metadata": {
        "id": "XGyxm2WiXEAo"
      },
      "execution_count": null,
      "outputs": []
    },
    {
      "cell_type": "code",
      "source": [],
      "metadata": {
        "id": "Pl-CmctLXD-R"
      },
      "execution_count": null,
      "outputs": []
    },
    {
      "cell_type": "code",
      "source": [],
      "metadata": {
        "id": "-XPKMbF8XD7J"
      },
      "execution_count": null,
      "outputs": []
    },
    {
      "cell_type": "code",
      "source": [],
      "metadata": {
        "id": "XlrLyTQUXD30"
      },
      "execution_count": null,
      "outputs": []
    },
    {
      "cell_type": "code",
      "source": [],
      "metadata": {
        "id": "m5dAgYhKNL9L"
      },
      "execution_count": null,
      "outputs": []
    },
    {
      "cell_type": "markdown",
      "source": [
        "Stacked (Deep) RNNs"
      ],
      "metadata": {
        "id": "5_Oh3MytNMxC"
      }
    },
    {
      "cell_type": "code",
      "source": [
        "# Stacked (Deep) RNN model\n",
        "stacked_rnn_model = Sequential([\n",
        "    SimpleRNN(64, activation=\"tanh\", return_sequences=True, input_shape=(window_size, 1)),\n",
        "    SimpleRNN(64, activation=\"tanh\"),  # Second RNN layer\n",
        "    Dense(1)\n",
        "])\n",
        "\n",
        "stacked_rnn_model.compile(optimizer=\"adam\", loss=\"mse\")\n",
        "\n",
        "history = stacked_rnn_model.fit(\n",
        "    X_train, y_train,\n",
        "    epochs=500,\n",
        "    batch_size=32,\n",
        "    verbose=1,\n",
        "    validation_split=0.1\n",
        ")"
      ],
      "metadata": {
        "id": "9RrXkRjgNL62"
      },
      "execution_count": null,
      "outputs": []
    },
    {
      "cell_type": "code",
      "source": [
        "stacked_rnn_model.summary()"
      ],
      "metadata": {
        "id": "ImjmucGJehTo"
      },
      "execution_count": null,
      "outputs": []
    },
    {
      "cell_type": "code",
      "source": [
        "# Predictions\n",
        "train_pred_stacked = stacked_rnn_model.predict(X_train)\n",
        "test_pred_stacked = stacked_rnn_model.predict(X_test)\n",
        "\n",
        "# Metrics\n",
        "train_rmse = np.sqrt(mean_squared_error(y_train, train_pred_stacked))\n",
        "train_r2 = r2_score(y_train, train_pred_stacked)\n",
        "\n",
        "test_rmse = np.sqrt(mean_squared_error(y_test, test_pred_stacked))\n",
        "test_r2 = r2_score(y_test, test_pred_stacked)\n",
        "\n",
        "print(\"Stacked RNN Results\")\n",
        "print(f\"Train → RMSE: {train_rmse:.3f}, R²: {train_r2:.3f}\")\n",
        "print(f\"Test  → RMSE: {test_rmse:.3f}, R²: {test_r2:.3f}\")\n"
      ],
      "metadata": {
        "id": "9YFs8a_ANL4O"
      },
      "execution_count": null,
      "outputs": []
    },
    {
      "cell_type": "code",
      "source": [
        "#Training Data vs Stacked RNN Prediction\n",
        "plt.figure(figsize=(12,6))\n",
        "plt.plot(y_train, label=\"Training Data (Actual)\", color=\"blue\")\n",
        "plt.plot(train_pred_stacked, label=\"Stacked RNN Prediction (Train)\", color=\"red\")\n",
        "plt.title(\"Stacked RNN Training Data vs Predictions\")\n",
        "plt.xlabel(\"Time Step\")\n",
        "plt.ylabel(\"Temperature\")\n",
        "plt.legend()\n",
        "plt.show()\n",
        "\n",
        "#Testing Data vs Stacked RNN Prediction\n",
        "plt.figure(figsize=(12,6))\n",
        "plt.plot(y_test, label=\"Testing Data (Actual)\", color=\"blue\")\n",
        "plt.plot(test_pred_stacked, label=\"Stacked RNN Prediction (Test)\", color=\"green\")\n",
        "plt.title(\"Stacked RNN Testing Data vs Predictions\")\n",
        "plt.xlabel(\"Time Step\")\n",
        "plt.ylabel(\"Temperature\")\n",
        "plt.legend()\n",
        "plt.show()\n"
      ],
      "metadata": {
        "id": "T0fVcCIyNLyh"
      },
      "execution_count": null,
      "outputs": []
    },
    {
      "cell_type": "markdown",
      "source": [
        "Hybrid RNN + CNN"
      ],
      "metadata": {
        "id": "RLKZQjcxNTye"
      }
    },
    {
      "cell_type": "code",
      "source": [
        "\n",
        "hybrid_model = Sequential([\n",
        "    Conv1D(filters=32, kernel_size=3, activation=\"relu\", input_shape=(window_size, 1)),\n",
        "    MaxPooling1D(pool_size=2),\n",
        "    SimpleRNN(64, activation=\"tanh\"),\n",
        "    Dense(1)\n",
        "])\n",
        "\n",
        "hybrid_model.compile(optimizer=\"adam\", loss=\"mse\")\n",
        "\n",
        "# Train model\n",
        "history = hybrid_model.fit(\n",
        "    X_train, y_train,\n",
        "    epochs=500,\n",
        "    batch_size=32,\n",
        "    verbose=1,\n",
        "    validation_split=0.1\n",
        ")"
      ],
      "metadata": {
        "id": "s5f3UbJHwQT1"
      },
      "execution_count": null,
      "outputs": []
    },
    {
      "cell_type": "code",
      "source": [
        "hybrid_model.summary()"
      ],
      "metadata": {
        "id": "fhhLvpkng7Qt"
      },
      "execution_count": null,
      "outputs": []
    },
    {
      "cell_type": "code",
      "source": [
        "# Predictions\n",
        "train_pred_hybrid = hybrid_model.predict(X_train)\n",
        "test_pred_hybrid = hybrid_model.predict(X_test)\n",
        "\n",
        "# Metrics\n",
        "train_rmse = np.sqrt(mean_squared_error(y_train, train_pred_hybrid))\n",
        "train_r2 = r2_score(y_train, train_pred_hybrid)\n",
        "\n",
        "test_rmse = np.sqrt(mean_squared_error(y_test, test_pred_hybrid))\n",
        "test_r2 = r2_score(y_test, test_pred_hybrid)\n",
        "\n",
        "print(\"Hybrid CNN + RNN Results\")\n",
        "print(f\"Train → RMSE: {train_rmse:.3f}, R²: {train_r2:.3f}\")\n",
        "print(f\"Test  → RMSE: {test_rmse:.3f}, R²: {test_r2:.3f}\")\n"
      ],
      "metadata": {
        "id": "ckFbBHbaNTdp"
      },
      "execution_count": null,
      "outputs": []
    },
    {
      "cell_type": "code",
      "source": [
        "plt.figure(figsize=(12,6))\n",
        "plt.plot(y_train, label=\"Training Data (Actual)\", color=\"blue\")\n",
        "plt.plot(train_pred_hybrid, label=\"Hybrid CNN+RNN Prediction (Train)\", color=\"red\")\n",
        "plt.title(\"Hybrid CNN+RNN Training Data vs Predictions\")\n",
        "plt.xlabel(\"Time Step\")\n",
        "plt.ylabel(\"Temperature\")\n",
        "plt.legend()\n",
        "plt.show()\n",
        "\n",
        "#Testing Data vs Hybrid RNN+CNN Prediction\n",
        "plt.figure(figsize=(12,6))\n",
        "plt.plot(y_test, label=\"Testing Data (Actual)\", color=\"blue\")\n",
        "plt.plot(test_pred_hybrid, label=\"Hybrid CNN+RNN Prediction (Test)\", color=\"green\")\n",
        "plt.title(\"Hybrid CNN+RNN Testing Data vs Predictions\")\n",
        "plt.xlabel(\"Time Step\")\n",
        "plt.ylabel(\"Temperature\")\n",
        "plt.legend()\n",
        "plt.show()\n"
      ],
      "metadata": {
        "id": "lwSiTi3ZCLAs"
      },
      "execution_count": null,
      "outputs": []
    },
    {
      "cell_type": "code",
      "source": [],
      "metadata": {
        "id": "bamgsX0gCaJE"
      },
      "execution_count": null,
      "outputs": []
    },
    {
      "cell_type": "markdown",
      "source": [
        "### **Prophet**"
      ],
      "metadata": {
        "id": "Ibm89udMynDN"
      }
    },
    {
      "cell_type": "code",
      "source": [
        "data.head(5)"
      ],
      "metadata": {
        "id": "MP-daMKIz86B"
      },
      "execution_count": null,
      "outputs": []
    },
    {
      "cell_type": "code",
      "source": [
        "data = data.reset_index().rename(columns={'index': 'Date'})\n",
        "data.head()"
      ],
      "metadata": {
        "id": "43Xa1xmX0Op6"
      },
      "execution_count": null,
      "outputs": []
    },
    {
      "cell_type": "code",
      "source": [
        "data = data.rename(columns={'Date': 'ds', 'Temperature': 'y'})\n",
        "data['ds'] = pd.to_datetime(data['ds'])\n",
        "\n",
        "# Prophet expects continuous time data\n",
        "data = data.sort_values('ds').dropna()\n",
        "\n",
        "data.head()\n"
      ],
      "metadata": {
        "id": "-CvsLnGAyVoW"
      },
      "execution_count": null,
      "outputs": []
    },
    {
      "cell_type": "code",
      "source": [
        "data.info()"
      ],
      "metadata": {
        "id": "EcQmqbDT2Ts7"
      },
      "execution_count": null,
      "outputs": []
    },
    {
      "cell_type": "code",
      "source": [
        "train_size = int(len(data) * 0.8)\n",
        "train_data_prophet, test_data_prophet = data.iloc[:train_size], data.iloc[train_size:]\n",
        "\n",
        "# Initialize Prophet model\n",
        "prophet_model = Prophet(\n",
        "    yearly_seasonality=True,\n",
        "    weekly_seasonality=False,\n",
        "    daily_seasonality=False,\n",
        "    seasonality_mode='additive'  # or 'multiplicative'\n",
        ")\n",
        "\n",
        "# adding custom seasonalities\n",
        "prophet_model.add_seasonality(name='yearly', period=365, fourier_order=5)\n",
        "\n",
        "prophet_model.fit(train_data_prophet)\n",
        "\n",
        "# Make future dataframe (for the length of the test set)\n",
        "future = prophet_model.make_future_dataframe(periods=len(test_data_prophet), freq='D')\n",
        "\n",
        "forecast = prophet_model.predict(future)\n",
        "\n",
        "# Extract forecast for the test period\n",
        "forecast_test = forecast.iloc[-len(test_data_prophet):]\n",
        "\n",
        "# -------------------\n",
        "# Training set evaluation\n",
        "# -------------------\n",
        "forecast_train = forecast.iloc[:len(train_data_prophet)]\n",
        "rmse_train = np.sqrt(mean_squared_error(train_data_prophet['y'], forecast_train['yhat']))\n",
        "r2_train = r2_score(train_data_prophet['y'], forecast_train['yhat'])\n",
        "print(f\"Train → RMSE: {rmse_train:.3f}, R²: {r2_train:.3f}\")\n",
        "\n",
        "# -------------------\n",
        "# Test set evaluation\n",
        "# -------------------\n",
        "forecast_test = forecast.iloc[-len(test_data_prophet):]\n",
        "rmse_test = np.sqrt(mean_squared_error(test_data_prophet['y'], forecast_test['yhat']))\n",
        "r2_test = r2_score(test_data_prophet['y'], forecast_test['yhat'])\n",
        "print(f\"Test → RMSE: {rmse_test:.3f}, R²: {r2_test:.3f}\")\n",
        "\n",
        "\n",
        "# Plot forecast (includes training and test periods)\n",
        "fig1 = prophet_model.plot(forecast)\n",
        "plt.title(\"Prophet Forecast - Daily Temperature\")\n",
        "plt.show()\n",
        "\n",
        "# Plot components (trend + seasonality)\n",
        "fig2 = prophet_model.plot_components(forecast)\n",
        "plt.show()"
      ],
      "metadata": {
        "id": "33RwzfiiyVku"
      },
      "execution_count": null,
      "outputs": []
    },
    {
      "cell_type": "code",
      "source": [
        "forecast_all = forecast[['ds', 'yhat']].set_index('ds')\n",
        "data_all = data.set_index('ds')\n",
        "combined = data_all.join(forecast_all, how='left')\n",
        "\n",
        "\n",
        "# Plot Actual vs Predicted (Entire Dataset)\n",
        "# -----------------------------\n",
        "plt.figure(figsize=(14,6))\n",
        "plt.plot(data_all.index, data_all['y'], label='Actual Data', color='blue')\n",
        "plt.plot(forecast_all.index, forecast_all['yhat'], label='Predicted (Prophet)', color='orange')\n",
        "plt.axvline(x=test_data_prophet['ds'].iloc[0], color='red', linestyle='--', label='Train/Test Split')\n",
        "plt.title(\"Prophet Forecast: Actual vs Predicted (Full Data)\")\n",
        "plt.xlabel(\"Date\")\n",
        "plt.ylabel(\"Temperature\")\n",
        "plt.legend()\n",
        "plt.grid(True)\n",
        "plt.show()\n",
        "\n",
        "# -----------------------------\n",
        "# 7️⃣ Plot Only Test Period (Zoomed-In)\n",
        "# -----------------------------\n",
        "plt.figure(figsize=(12,5))\n",
        "plt.plot(test_data_prophet['ds'], test_data_prophet['y'], label='Actual Test Data', color='blue')\n",
        "plt.plot(forecast_test['ds'], forecast_test['yhat'], label='Predicted (Test Forecast)', color='orange')\n",
        "plt.title(\"Prophet Forecast: Test Data vs Predicted\")\n",
        "plt.xlabel(\"Date\")\n",
        "plt.ylabel(\"Temperature\")\n",
        "plt.legend()\n",
        "plt.grid(True)\n",
        "plt.show()"
      ],
      "metadata": {
        "id": "QHYtEzkhyVgD"
      },
      "execution_count": null,
      "outputs": []
    },
    {
      "cell_type": "code",
      "source": [
        "combined"
      ],
      "metadata": {
        "id": "01b2TGOUyx9Y"
      },
      "execution_count": null,
      "outputs": []
    },
    {
      "cell_type": "code",
      "source": [],
      "metadata": {
        "id": "52vGaBxt5FCV"
      },
      "execution_count": null,
      "outputs": []
    },
    {
      "cell_type": "code",
      "source": [],
      "metadata": {
        "id": "zDz7A-qpmzBa"
      },
      "execution_count": null,
      "outputs": []
    },
    {
      "cell_type": "code",
      "source": [],
      "metadata": {
        "id": "xMcZS8d-my-t"
      },
      "execution_count": null,
      "outputs": []
    },
    {
      "cell_type": "markdown",
      "source": [
        "### **NeuralProphet**"
      ],
      "metadata": {
        "id": "FBN6-RNxmzor"
      }
    },
    {
      "cell_type": "code",
      "source": [],
      "metadata": {
        "id": "ZAJdQk3Nmy7o"
      },
      "execution_count": null,
      "outputs": []
    },
    {
      "cell_type": "code",
      "source": [
        "import numpy as np\n",
        "if not hasattr(np, 'NaN'):\n",
        "    np.NaN = np.nan\n"
      ],
      "metadata": {
        "id": "_yrBmjLR5E-p"
      },
      "execution_count": null,
      "outputs": []
    },
    {
      "cell_type": "code",
      "source": [
        "data['ds'] = pd.to_datetime(data['ds'])\n",
        "\n",
        "train_size = int(len(data) * 0.8)\n",
        "train_data = data.iloc[:train_size]\n",
        "test_data = data.iloc[train_size:]\n",
        "\n",
        "# 'ds' should be in datetime format\n",
        "\n",
        "# NeuralProphet Model\n",
        "\n",
        "np_model = NeuralProphet(\n",
        "    yearly_seasonality=True,\n",
        "    weekly_seasonality=False,\n",
        "    daily_seasonality=False,\n",
        "    epochs=100,\n",
        "    batch_size=64,\n",
        "    learning_rate=0.01,\n",
        "    seasonality_mode='additive'  # 'multiplicative' isnot giving good results - Train → RMSE: 2.884, R²: 0.494 & Test  → RMSE: 3.095, R²: 0.431\n",
        ")\n",
        "\n",
        "\n",
        "metrics = np_model.fit(train_data, freq='D')\n",
        "\n",
        "\n",
        "# Predict next 365 days beyond available data\n",
        "future = np_model.make_future_dataframe(train_data, periods=len(test_data), n_historic_predictions=True)\n",
        "forecast = np_model.predict(future)\n"
      ],
      "metadata": {
        "id": "eflNdP_Xyx7C"
      },
      "execution_count": null,
      "outputs": []
    },
    {
      "cell_type": "code",
      "source": [
        "# Evaluate performance\n",
        "\n",
        "train_forecast = forecast.iloc[:len(train_data)]\n",
        "test_forecast = forecast.iloc[len(train_data):]\n",
        "\n",
        "train_rmse = np.sqrt(mean_squared_error(train_data['y'], train_forecast['yhat1']))\n",
        "train_r2 = r2_score(train_data['y'], train_forecast['yhat1'])\n",
        "test_rmse = np.sqrt(mean_squared_error(test_data['y'], test_forecast['yhat1']))\n",
        "test_r2 = r2_score(test_data['y'], test_forecast['yhat1'])\n",
        "\n",
        "print(f\"Train → RMSE: {train_rmse:.3f}, R²: {train_r2:.3f}\")\n",
        "print(f\"Test  → RMSE: {test_rmse:.3f}, R²: {test_r2:.3f}\")\n",
        "\n"
      ],
      "metadata": {
        "id": "OL-W9lbeyx4r"
      },
      "execution_count": null,
      "outputs": []
    },
    {
      "cell_type": "code",
      "source": [
        "# Plot Actual vs Predicted\n",
        "\n",
        "plt.figure(figsize=(14,6))\n",
        "plt.plot(train_data['ds'], train_data['y'], label='Train Actual', color='blue')\n",
        "plt.plot(train_data['ds'], train_forecast['yhat1'], label='Train Predicted', color='cyan')\n",
        "\n",
        "plt.plot(test_data['ds'], test_data['y'], label='Test Actual', color='orange')\n",
        "plt.plot(test_data['ds'], test_forecast['yhat1'], label='Test Predicted', color='red')\n",
        "\n",
        "plt.title(\"NeuralProphet: Actual vs Predicted Temperature\")\n",
        "plt.xlabel(\"Date\")\n",
        "plt.ylabel(\"Temperature\")\n",
        "plt.legend()\n",
        "plt.grid(True)\n",
        "plt.show()\n",
        "\n"
      ],
      "metadata": {
        "id": "3tlUX0qyyx1l"
      },
      "execution_count": null,
      "outputs": []
    },
    {
      "cell_type": "code",
      "source": [],
      "metadata": {
        "id": "1B9v8aw9PvYl"
      },
      "execution_count": null,
      "outputs": []
    },
    {
      "cell_type": "code",
      "source": [],
      "metadata": {
        "id": "dbtkvhh8QURr"
      },
      "execution_count": null,
      "outputs": []
    }
  ]
}